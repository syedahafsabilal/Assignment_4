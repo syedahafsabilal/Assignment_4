{
  "nbformat": 4,
  "nbformat_minor": 0,
  "metadata": {
    "colab": {
      "provenance": []
    },
    "kernelspec": {
      "name": "python3",
      "display_name": "Python 3"
    },
    "language_info": {
      "name": "python"
    }
  },
  "cells": [
    {
      "cell_type": "code",
      "source": [
        "from graphics import Canvas\n",
        "import time\n",
        "\n",
        "canvas_width: int =400\n",
        "canvas_height: int = 400\n",
        "\n",
        "cell_size: int = 20\n",
        "\n",
        "eraser_size: int = 20\n",
        "\n",
        "def erase_object(canvas,eraser):\n",
        "    mouse_x = canvas.get_mouse_position()\n",
        "    mouse_y = canvas.get_mouse_position()\n",
        "\n",
        "    left_x = mouse_x - eraser_size\n",
        "    right_x = mouse_x + eraser_size\n",
        "    top_y = mouse_y - eraser_size\n",
        "    bottom_y = mouse_y + eraser_size\n",
        "\n",
        "    objects = canvas.find_overlapping(left_x, top_y, right_x, bottom_y)\n",
        "    for overlapping_object in objects != eraser:\n",
        "        canvas.delete(overlapping_object,\"white\")\n",
        "def main():\n",
        "    canvas = Canvas(canvas_width, canvas_height)\n",
        "    num_rows = canvas_height // cell_size\n",
        "    num_cols = canvas_width // cell_size\n",
        "\n",
        "    for row in range(num_rows):\n",
        "        for col in range(num_cols):\n",
        "            left_x : int = col * cell_size\n",
        "            top_y = row * cell_size\n",
        "            right_x = left_x + cell_size\n",
        "            bottom_y = top_y + cell_size\n",
        "            canvas.create_rectangle(left_x, top_y, right_x, bottom_y, fill=\"pink\")\n",
        "    canvas.wait_for_click()\n",
        "    last_click_x, last_click_y = canvas.get_mouse_position()\n",
        "    eraser = canvas.create_rectangle(last_click_x - eraser_size, last_click_y - eraser_size, last_click_x + eraser_size, last_click_y + eraser_size, fill=\"white\")\n",
        "    while True:\n",
        "         mouse_x = canvas.get_mouse_x()\n",
        "         mouse_y = canvas.get_mouse_y()\n",
        "         if mouse_x + eraser_size > canvas_width:\n",
        "            mouse_x + eraser_size > canvas_width\n",
        "         if mouse_y + eraser_size > canvas_height:\n",
        "            mouse_y + eraser_size > canvas_height\n",
        "\n",
        "         canvas.moveto(eraser, mouse_x, mouse_y)\n",
        "         erase_object(canvas,eraser)\n",
        "         canvas.set_color(eraser,'read')\n",
        "         time.sleep(0.05)\n",
        "if __name__ == \"__main__\":\n",
        "    main()\n",
        "\n"
      ],
      "metadata": {
        "colab": {
          "base_uri": "https://localhost:8080/",
          "height": 383
        },
        "id": "p-5dv2hi-88l",
        "outputId": "85e49222-edad-4018-cbac-16a591a8a977"
      },
      "execution_count": null,
      "outputs": [
        {
          "output_type": "error",
          "ename": "ModuleNotFoundError",
          "evalue": "No module named 'graphics'",
          "traceback": [
            "\u001b[0;31m---------------------------------------------------------------------------\u001b[0m",
            "\u001b[0;31mModuleNotFoundError\u001b[0m                       Traceback (most recent call last)",
            "\u001b[0;32m<ipython-input-6-72c3a909bae9>\u001b[0m in \u001b[0;36m<cell line: 0>\u001b[0;34m()\u001b[0m\n\u001b[0;32m----> 1\u001b[0;31m \u001b[0;32mfrom\u001b[0m \u001b[0mgraphics\u001b[0m \u001b[0;32mimport\u001b[0m \u001b[0mCanvas\u001b[0m\u001b[0;34m\u001b[0m\u001b[0;34m\u001b[0m\u001b[0m\n\u001b[0m\u001b[1;32m      2\u001b[0m \u001b[0;32mimport\u001b[0m \u001b[0mtime\u001b[0m\u001b[0;34m\u001b[0m\u001b[0;34m\u001b[0m\u001b[0m\n\u001b[1;32m      3\u001b[0m \u001b[0;34m\u001b[0m\u001b[0m\n\u001b[1;32m      4\u001b[0m \u001b[0mcanvas_width\u001b[0m\u001b[0;34m:\u001b[0m \u001b[0mint\u001b[0m \u001b[0;34m=\u001b[0m\u001b[0;36m400\u001b[0m\u001b[0;34m\u001b[0m\u001b[0;34m\u001b[0m\u001b[0m\n\u001b[1;32m      5\u001b[0m \u001b[0mcanvas_height\u001b[0m\u001b[0;34m:\u001b[0m \u001b[0mint\u001b[0m \u001b[0;34m=\u001b[0m \u001b[0;36m400\u001b[0m\u001b[0;34m\u001b[0m\u001b[0;34m\u001b[0m\u001b[0m\n",
            "\u001b[0;31mModuleNotFoundError\u001b[0m: No module named 'graphics'",
            "",
            "\u001b[0;31m---------------------------------------------------------------------------\u001b[0;32m\nNOTE: If your import is failing due to a missing package, you can\nmanually install dependencies using either !pip or !apt.\n\nTo view examples of installing some common dependencies, click the\n\"Open Examples\" button below.\n\u001b[0;31m---------------------------------------------------------------------------\u001b[0m\n"
          ],
          "errorDetails": {
            "actions": [
              {
                "action": "open_url",
                "actionText": "Open Examples",
                "url": "/notebooks/snippets/importing_libraries.ipynb"
              }
            ]
          }
        }
      ]
    },
    {
      "cell_type": "code",
      "source": [],
      "metadata": {
        "id": "MRPWlKyH_gNR"
      },
      "execution_count": null,
      "outputs": []
    }
  ]
}