{
  "nbformat": 4,
  "nbformat_minor": 0,
  "metadata": {
    "colab": {
      "provenance": []
    },
    "kernelspec": {
      "name": "python3",
      "display_name": "Python 3"
    },
    "language_info": {
      "name": "python"
    }
  },
  "cells": [
    {
      "cell_type": "code",
      "execution_count": null,
      "metadata": {
        "id": "HmNLsRNZFjsg",
        "colab": {
          "base_uri": "https://localhost:8080/"
        },
        "outputId": "01522228-df46-4504-836b-51f6f4b31797"
      },
      "outputs": [
        {
          "output_type": "stream",
          "name": "stdout",
          "text": [
            "Enter a message: i want lots of money\n",
            "List after: ['i want lots of money', 'i want lots of money', 'i want lots of money']\n"
          ]
        }
      ],
      "source": [
        "def add_three_copies(my_list, data):\n",
        "    for i in range(3):\n",
        "        my_list.append(data)\n",
        "def main():\n",
        "    message = input(\"Enter a message: \")\n",
        "    my_list = []\n",
        "    add_three_copies(my_list, message)\n",
        "    print(\"List after:\", my_list)\n",
        "\n",
        "if __name__ == \"__main__\":\n",
        "    main()"
      ]
    }
  ]
}