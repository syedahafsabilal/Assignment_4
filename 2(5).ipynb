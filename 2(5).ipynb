{
  "nbformat": 4,
  "nbformat_minor": 0,
  "metadata": {
    "colab": {
      "provenance": []
    },
    "kernelspec": {
      "name": "python3",
      "display_name": "Python 3"
    },
    "language_info": {
      "name": "python"
    }
  },
  "cells": [
    {
      "cell_type": "code",
      "execution_count": null,
      "metadata": {
        "colab": {
          "base_uri": "https://localhost:8080/"
        },
        "id": "sQTIXAaqmcXQ",
        "outputId": "0959e2bf-c784-4fa1-8342-5bf61ec8b6d4"
      },
      "outputs": [
        {
          "output_type": "stream",
          "name": "stdout",
          "text": [
            "Please enter an element or press enter to stop 2\n",
            "Please enter an element or press enter to stop hello\n",
            "Please enter an element or press enter to stop \n",
            "2\n"
          ]
        }
      ],
      "source": [
        "def get_first_element(lst):\n",
        "    print(lst[0])\n",
        "def get_lst_element(lst):\n",
        "    lst =[]\n",
        "    elem = input(\"Please enter an element or press enter to stop \")\n",
        "    while elem != \"\":\n",
        "        lst.append(elem)\n",
        "        elem = input(\"Please enter an element or press enter to stop \")\n",
        "    return lst\n",
        "def main():\n",
        "    lst = get_lst_element([])\n",
        "    get_first_element(lst)\n",
        "if __name__ == \"__main__\":\n",
        "    main()\n"
      ]
    }
  ]
}