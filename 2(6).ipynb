{
  "nbformat": 4,
  "nbformat_minor": 0,
  "metadata": {
    "colab": {
      "provenance": []
    },
    "kernelspec": {
      "name": "python3",
      "display_name": "Python 3"
    },
    "language_info": {
      "name": "python"
    }
  },
  "cells": [
    {
      "cell_type": "code",
      "execution_count": null,
      "metadata": {
        "colab": {
          "base_uri": "https://localhost:8080/"
        },
        "id": "uqMEoOj8nn4m",
        "outputId": "edaed1bc-a74a-42eb-a405-648035da0879"
      },
      "outputs": [
        {
          "output_type": "stream",
          "name": "stdout",
          "text": [
            "Enter an element or press enter to stop:2\n",
            "Enter an element or press enter to stop:5\n",
            "Enter an element or press enter to stop:8\n",
            "Enter an element or press enter to stop:\n",
            "8\n"
          ]
        }
      ],
      "source": [
        "def get_last_element(lst):\n",
        "    print(lst[-1])\n",
        "def get_lst():\n",
        "    lst = []\n",
        "    elem = input(\"Enter an element or press enter to stop:\")\n",
        "    while elem != \"\":\n",
        "        lst.append(elem)\n",
        "        elem = input(\"Enter an element or press enter to stop:\")\n",
        "    return lst\n",
        "def main():\n",
        "    lst = get_lst()\n",
        "    get_last_element(lst)\n",
        "if __name__ == \"__main__\":\n",
        "    main()"
      ]
    }
  ]
}