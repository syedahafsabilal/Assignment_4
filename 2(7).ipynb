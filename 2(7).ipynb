{
  "nbformat": 4,
  "nbformat_minor": 0,
  "metadata": {
    "colab": {
      "provenance": []
    },
    "kernelspec": {
      "name": "python3",
      "display_name": "Python 3"
    },
    "language_info": {
      "name": "python"
    }
  },
  "cells": [
    {
      "cell_type": "code",
      "execution_count": null,
      "metadata": {
        "colab": {
          "base_uri": "https://localhost:8080/"
        },
        "id": "icnjF6P4riBT",
        "outputId": "9166fce8-4f06-4d26-d89f-1fc5b58b9663"
      },
      "outputs": [
        {
          "output_type": "stream",
          "name": "stdout",
          "text": [
            "Enter a value:2\n",
            "Enter a value:4\n",
            "Enter a value:6\n",
            "Enter a value:\n",
            "Here's the list: ['2', '4', '6']\n"
          ]
        }
      ],
      "source": [
        "def main():\n",
        "    lst = []\n",
        "    val = input(\"Enter a value:\")\n",
        "    while val:\n",
        "          lst.append(val)\n",
        "          val = input(\"Enter a value:\")\n",
        "    print(\"Here's the list:\",lst)\n",
        "\n",
        "if __name__ == '__main__':\n",
        "    main()"
      ]
    }
  ]
}