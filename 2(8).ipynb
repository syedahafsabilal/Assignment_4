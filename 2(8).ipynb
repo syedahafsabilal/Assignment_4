{
  "nbformat": 4,
  "nbformat_minor": 0,
  "metadata": {
    "colab": {
      "provenance": []
    },
    "kernelspec": {
      "name": "python3",
      "display_name": "Python 3"
    },
    "language_info": {
      "name": "python"
    }
  },
  "cells": [
    {
      "cell_type": "code",
      "execution_count": null,
      "metadata": {
        "colab": {
          "base_uri": "https://localhost:8080/"
        },
        "id": "k0fOd13qtdxa",
        "outputId": "dca309ea-f41b-4749-e0a5-3862275f2869"
      },
      "outputs": [
        {
          "name": "stdout",
          "output_type": "stream",
          "text": [
            "Enter an element or press enter to stop 1\n",
            "Enter an element or press enter to stop 2\n",
            "Enter an element or press enter to stop 3\n",
            "Enter an element or press enter to stop \n",
            "Enter an element or press enter to stop \n"
          ]
        }
      ],
      "source": [
        "man_length : int = 3\n",
        "def shorten(lst):\n",
        "    while len(lst) > max_length:\n",
        "      last_element = lst.pop\n",
        "      print(last_element)\n",
        "def get_lst():\n",
        "    lst = []\n",
        "    elem = input(\"Enter an element or press enter to stop \")\n",
        "    if elem != 'done':\n",
        "        lst.append(elem)\n",
        "        get_lst()\n",
        "    return lst\n",
        "def main():\n",
        "    lst = get_lst()\n",
        "    shorten(lst)\n",
        "    print(lst)\n",
        "if __name__ == '__main__':\n",
        "    main()"
      ]
    }
  ]
}