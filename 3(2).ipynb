{
  "nbformat": 4,
  "nbformat_minor": 0,
  "metadata": {
    "colab": {
      "provenance": []
    },
    "kernelspec": {
      "name": "python3",
      "display_name": "Python 3"
    },
    "language_info": {
      "name": "python"
    }
  },
  "cells": [
    {
      "cell_type": "code",
      "execution_count": null,
      "metadata": {
        "colab": {
          "base_uri": "https://localhost:8080/"
        },
        "id": "6oFFUcrlI-aW",
        "outputId": "0f95e8d7-9d27-4958-b9f0-a94c6135abb0"
      },
      "outputs": [
        {
          "output_type": "stream",
          "name": "stdout",
          "text": [
            "Enter your age: 18\n",
            "You can vote in penturksbouipo where the voting age is 16.\n",
            "You cannot vote in stanlau where the voting age is 25.\n",
            "You cannot vote in maylengua where the voting age is48.\n"
          ]
        }
      ],
      "source": [
        "penturksbouipo_age : int = 16\n",
        "stanlau_age : int = 25\n",
        "maylengua_age : int = 48\n",
        "\n",
        "def main():\n",
        "    user_age = int(input(\"Enter your age: \"))\n",
        "    if user_age >= penturksbouipo_age:\n",
        "       print(\"You can vote in penturksbouipo where the voting age is \"+ str(penturksbouipo_age) + \".\")\n",
        "    else:\n",
        "      print(\"You cannot vote in penturksbouipo where the voting age is \"+ str(penturksbouipo_age) + \".\")\n",
        "    if user_age >= stanlau_age:\n",
        "      print(\"You can vote in stanlau where the voting age is \"+ str(stanlau_age) + \".\")\n",
        "    else:\n",
        "      print(\"You cannot vote in stanlau where the voting age is \"+ str(stanlau_age) + \".\")\n",
        "    if user_age >= maylengua_age:\n",
        "      print(\"You can vote in maylengua where the voting age is \"+ str(maylengua_age) + \".\")\n",
        "    else:\n",
        "      print(\"You cannot vote in maylengua where the voting age is\"+ str(maylengua_age) + \".\")\n",
        "if __name__ == \"__main__\":\n",
        "    main()"
      ]
    }
  ]
}