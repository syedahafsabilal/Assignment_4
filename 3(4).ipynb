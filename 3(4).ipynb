{
  "nbformat": 4,
  "nbformat_minor": 0,
  "metadata": {
    "colab": {
      "provenance": []
    },
    "kernelspec": {
      "name": "python3",
      "display_name": "Python 3"
    },
    "language_info": {
      "name": "python"
    }
  },
  "cells": [
    {
      "cell_type": "code",
      "execution_count": null,
      "metadata": {
        "colab": {
          "base_uri": "https://localhost:8080/"
        },
        "id": "Whs4nXFJQgvQ",
        "outputId": "ad090b53-f593-4d57-dcd5-9cca97e78031"
      },
      "outputs": [
        {
          "output_type": "stream",
          "name": "stdout",
          "text": [
            "How tall are you?100\n",
            "You''re tall enough to ride!\n"
          ]
        }
      ],
      "source": [
        "minimum_height : int = 50\n",
        "def main():\n",
        "    height = float(input(\"How tall are you?\"))\n",
        "    if height >= minimum_height:\n",
        "        print(\"You''re tall enough to ride!\")\n",
        "    else:\n",
        "        print(\" you're not tall enough to ride, but maybe next year!\")\n",
        "\n",
        "if __name__ == \"__main__\":\n",
        "    main()"
      ]
    }
  ]
}