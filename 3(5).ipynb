{
  "nbformat": 4,
  "nbformat_minor": 0,
  "metadata": {
    "colab": {
      "provenance": []
    },
    "kernelspec": {
      "name": "python3",
      "display_name": "Python 3"
    },
    "language_info": {
      "name": "python"
    }
  },
  "cells": [
    {
      "cell_type": "code",
      "execution_count": null,
      "metadata": {
        "colab": {
          "base_uri": "https://localhost:8080/"
        },
        "id": "Co4uZlIzSvft",
        "outputId": "e8d41e82-5a28-4e93-e7af-464d590f0313"
      },
      "outputs": [
        {
          "output_type": "stream",
          "name": "stdout",
          "text": [
            "99 27 1 50 4 79 34 80 94 76 "
          ]
        }
      ],
      "source": [
        "import random\n",
        "\n",
        "n_numbers: int = 10\n",
        "min_value: int = 1\n",
        "max_value: int = 100\n",
        "\n",
        "def main():\n",
        "\n",
        "    numbers: list[int] = [random.randint(min_value, max_value) for _ in range(n_numbers)]\n",
        "    for number in numbers:\n",
        "        print(number, end=\" \")\n",
        "\n",
        "\n",
        "if __name__ == \"__main__\":\n",
        "    main()"
      ]
    }
  ]
}