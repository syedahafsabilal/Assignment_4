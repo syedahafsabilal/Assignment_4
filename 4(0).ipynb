{
  "nbformat": 4,
  "nbformat_minor": 0,
  "metadata": {
    "colab": {
      "provenance": []
    },
    "kernelspec": {
      "name": "python3",
      "display_name": "Python 3"
    },
    "language_info": {
      "name": "python"
    }
  },
  "cells": [
    {
      "cell_type": "code",
      "execution_count": null,
      "metadata": {
        "colab": {
          "base_uri": "https://localhost:8080/"
        },
        "id": "F8iBa9EO7Hgf",
        "outputId": "badab226-f8b1-471f-c14b-42a4e29cfc25"
      },
      "outputs": [
        {
          "output_type": "stream",
          "name": "stdout",
          "text": [
            "Enter a number: 3\n",
            "Enter a number: 3\n",
            "Enter a number: 3\n",
            "Enter a number: 8\n",
            "Enter a number: 8\n",
            "Enter a number: 1\n",
            "Enter a number: \n",
            "3 appears 3 times.\n",
            "8 appears 2 times.\n",
            "1 appears 1 times.\n"
          ]
        }
      ],
      "source": [
        "\n",
        "def get_user_numbers():\n",
        "    user_numbers = []\n",
        "    while True:\n",
        "      user_input = input(\"Enter a number: \")\n",
        "      if user_input == \"\":\n",
        "        break\n",
        "      num = int(user_input)\n",
        "      user_numbers.append(int(user_input))\n",
        "    return user_numbers\n",
        "def count_nums(num_lst):\n",
        "    num_dict = {}\n",
        "    for num in num_lst:\n",
        "      if num not in num_dict:\n",
        "        num_dict[num] = 1\n",
        "      else:\n",
        "        num_dict[num] += 1\n",
        "    return num_dict\n",
        "def print_counts(num_dict):\n",
        "    for num, count in num_dict.items():\n",
        "      print(f\"{num} appears {num_dict[num]} times.\")\n",
        "def main():\n",
        "    user_numbers = get_user_numbers()\n",
        "    num_dict = count_nums(user_numbers)\n",
        "    print_counts(num_dict)\n",
        "if __name__ == \"__main__\":\n",
        "    main()\n"
      ]
    }
  ]
}