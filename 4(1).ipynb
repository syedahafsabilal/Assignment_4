{
  "cells": [
    {
      "cell_type": "code",
      "execution_count": null,
      "metadata": {
        "colab": {
          "background_save": true,
          "base_uri": "https://localhost:8080/"
        },
        "id": "Xe0jVeZg9Eh6",
        "outputId": "c77daddb-72a4-442a-f2ba-a192ea17c961"
      },
      "outputs": [
        {
          "name": "stdout",
          "output_type": "stream",
          "text": [
            "hafsa -> 123444555555\n",
            "123 is not in the phonebook.\n",
            "12344455555 is not in the phonebook.\n",
            "hafsa -> 123444555555\n"
          ]
        }
      ],
      "source": [
        "def read_phone_numbers():\n",
        "    phonebook = {}\n",
        "    while True:\n",
        "      name = input(\"Enter name: \")\n",
        "      if name == \"\":\n",
        "        break\n",
        "      number = input(\"Enter number: \")\n",
        "      phonebook[name] = number\n",
        "    return phonebook\n",
        "def print_phonebook(phonebook):\n",
        "    for name in phonebook:\n",
        "        print(f\"{name} -> {phonebook[name]}\")\n",
        "def lookup_numbers(phonebook):\n",
        "    while True:\n",
        "      name = input(\"Enter name to lookup: \")\n",
        "      if name == \"\":\n",
        "        break\n",
        "      if name in phonebook:\n",
        "        print(f\"{name} -> {phonebook[name]}\")\n",
        "      else:\n",
        "          print(f\"{name} is not in the phonebook.\")\n",
        "def main():\n",
        "    phonebook = read_phone_numbers()\n",
        "    print_phonebook(phonebook)\n",
        "    lookup_numbers(phonebook)\n",
        "if __name__ == \"__main__\":\n",
        "    main()"
      ]
    }
  ],
  "metadata": {
    "colab": {
      "provenance": []
    },
    "kernelspec": {
      "display_name": "Python 3",
      "name": "python3"
    },
    "language_info": {
      "name": "python"
    }
  },
  "nbformat": 4,
  "nbformat_minor": 0
}