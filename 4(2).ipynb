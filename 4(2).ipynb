{
  "nbformat": 4,
  "nbformat_minor": 0,
  "metadata": {
    "colab": {
      "provenance": []
    },
    "kernelspec": {
      "name": "python3",
      "display_name": "Python 3"
    },
    "language_info": {
      "name": "python"
    }
  },
  "cells": [
    {
      "cell_type": "code",
      "execution_count": null,
      "metadata": {
        "colab": {
          "base_uri": "https://localhost:8080/"
        },
        "id": "IPPzGSRcMB1I",
        "outputId": "42cbce7b-904a-4a84-f41b-27474fc78db1"
      },
      "outputs": [
        {
          "output_type": "stream",
          "name": "stdout",
          "text": [
            "How many (apple) do you want but?: 2\n",
            "How many (durian) do you want but?: 4\n",
            "How many (jackfruit) do you want but?: 6\n",
            "How many (kiwi) do you want but?: 2\n",
            "How many (rambutan) do you want but?: 1\n",
            "How many (mango) do you want but?: 2\n",
            "Your total is $696.5\n"
          ]
        }
      ],
      "source": [
        "def main():\n",
        "    fruits = {\"apple\":1.5, \"durian\":50, \"jackfruit\":80,\"kiwi\":1,\"rambutan\":1.5,\"mango\":5}\n",
        "    total_cost =0\n",
        "    for fruit_name in fruits:\n",
        "        price=fruits[fruit_name]\n",
        "        amount_bought = int(input(\"How many (\"+ fruit_name +\") do you want but?: \"))\n",
        "        total_cost += (price * amount_bought)\n",
        "    print(\"Your total is $\" + str(total_cost))\n",
        "\n",
        "if __name__ == \"__main__\":\n",
        "    main()"
      ]
    }
  ]
}