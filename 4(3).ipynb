{
  "nbformat": 4,
  "nbformat_minor": 0,
  "metadata": {
    "colab": {
      "provenance": []
    },
    "kernelspec": {
      "name": "python3",
      "display_name": "Python 3"
    },
    "language_info": {
      "name": "python"
    }
  },
  "cells": [
    {
      "cell_type": "code",
      "execution_count": null,
      "metadata": {
        "colab": {
          "base_uri": "https://localhost:8080/"
        },
        "id": "oO9daDYoAY51",
        "outputId": "b9a82394-92ad-4286-c993-eca9e97f64a4"
      },
      "outputs": [
        {
          "output_type": "stream",
          "name": "stdout",
          "text": [
            "True\n",
            "False\n",
            "True\n",
            "False\n",
            "True\n",
            "False\n"
          ]
        }
      ],
      "source": [
        "from hashlib import sha256\n",
        "def login(email,stored_logins,password_to_check):\n",
        "    if stored_logins.get(email) == hash_password(password_to_check):\n",
        "        return True\n",
        "    return False\n",
        "def hash_password(password):\n",
        "    return sha256(password.encode()).hexdigest()\n",
        "def main():\n",
        "    stored_logins = {\n",
        "        \"example@gmail.com\": hash_password(\"password123\"),\n",
        "        \"jane@cip.org\":hash_password(\"securepass\"),\n",
        "        \"student@standarduniversity.edu\":hash_password(\"studentpass\")\n",
        "}\n",
        "    print(login(\"example@gmail.com\", stored_logins, \"password123\"))\n",
        "    print(login(\"example@gmail.com\", stored_logins, \"wrongpassword\"))\n",
        "\n",
        "    print(login(\"jane@cip.org\", stored_logins, \"securepass\"))\n",
        "    print(login(\"jane@cip.org\", stored_logins, \"wrongpassword\"))\n",
        "\n",
        "    print(login(\"student@standarduniversity.edu\", stored_logins, \"studentpass\"))\n",
        "    print(login(\"student@standarduniversity.edu\", stored_logins, \"wrongpassword\"))\n",
        "if __name__ == \"__main__\":\n",
        "    main()"
      ]
    }
  ]
}