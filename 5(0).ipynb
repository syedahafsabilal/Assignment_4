{
  "nbformat": 4,
  "nbformat_minor": 0,
  "metadata": {
    "colab": {
      "provenance": []
    },
    "kernelspec": {
      "name": "python3",
      "display_name": "Python 3"
    },
    "language_info": {
      "name": "python"
    }
  },
  "cells": [
    {
      "cell_type": "code",
      "execution_count": null,
      "metadata": {
        "colab": {
          "base_uri": "https://localhost:8080/"
        },
        "id": "pWAU0LiTQg_r",
        "outputId": "d571e126-de23-4b4b-b845-50ded2433742"
      },
      "outputs": [
        {
          "output_type": "stream",
          "name": "stdout",
          "text": [
            "I am thinking of a number between 1 and 99.\n",
            "Take a guess: 60\n",
            "Too low.\n",
            "\n",
            "Take a guess: 80\n",
            "Too high.\n",
            "\n",
            "Take a guess: 75\n",
            "Too high.\n",
            "\n",
            "Take a guess: 65\n",
            "Too low.\n",
            "\n",
            "Take a guess: 70\n",
            "Good job! You guessed my number.\n"
          ]
        }
      ],
      "source": [
        "import random\n",
        "def main():\n",
        "    secret_number = random.randint(1,99)\n",
        "    print(\"I am thinking of a number between 1 and 99.\")\n",
        "    guess = int(input(\"Take a guess: \"))\n",
        "    while guess != secret_number:\n",
        "        if guess < secret_number:\n",
        "            print(\"Too low.\")\n",
        "        else:\n",
        "            print(\"Too high.\")\n",
        "        print()\n",
        "        guess = int(input(\"Take a guess: \"))\n",
        "    print(\"Good job! You guessed my number.\")\n",
        "\n",
        "if __name__ == \"__main__\":\n",
        "    main()"
      ]
    }
  ]
}