{
  "nbformat": 4,
  "nbformat_minor": 0,
  "metadata": {
    "colab": {
      "provenance": []
    },
    "kernelspec": {
      "name": "python3",
      "display_name": "Python 3"
    },
    "language_info": {
      "name": "python"
    }
  },
  "cells": [
    {
      "cell_type": "code",
      "execution_count": null,
      "metadata": {
        "colab": {
          "base_uri": "https://localhost:8080/"
        },
        "id": "shLo_GNerLtn",
        "outputId": "5e58fa99-dd18-43e5-f5b6-ac7ff046f62d"
      },
      "outputs": [
        {
          "output_type": "stream",
          "name": "stdout",
          "text": [
            "0 1 1 2 3 5 8 13 21 34 55 89 144 233 377 610 987 1597 2584 4181 6765 "
          ]
        }
      ],
      "source": [
        "max_term_value : int = 10000\n",
        "def main():\n",
        "    cur_term = 0\n",
        "    next_term = 1\n",
        "    while cur_term < max_term_value:\n",
        "        print(cur_term, end=\" \")\n",
        "        term_after_next = cur_term + next_term\n",
        "        cur_term = next_term\n",
        "        next_term = term_after_next\n",
        "\n",
        "if __name__ == \"__main__\":\n",
        "    main()"
      ]
    }
  ]
}