{
  "nbformat": 4,
  "nbformat_minor": 0,
  "metadata": {
    "colab": {
      "provenance": []
    },
    "kernelspec": {
      "name": "python3",
      "display_name": "Python 3"
    },
    "language_info": {
      "name": "python"
    }
  },
  "cells": [
    {
      "cell_type": "code",
      "execution_count": null,
      "metadata": {
        "colab": {
          "base_uri": "https://localhost:8080/"
        },
        "id": "H8kfRirZUgFg",
        "outputId": "fa66833a-68c3-4cbe-a243-1f97190d6354"
      },
      "outputs": [
        {
          "output_type": "stream",
          "name": "stdout",
          "text": [
            "Please type the following affirmation.i am capable\n",
            "Hmmm That was not the affirmation.\n",
            "Please type the following affirmation: i am capable of doing I put my mind to\n",
            "Hmmm That was not the affirmation.\n",
            "Please type the following affirmation: i am capable of doing anything i put my mind to\n",
            "Hmmm That was not the affirmation.\n",
            "Please type the following affirmation: I am capable of doing anything I put my mind to\n",
            "Hmmm That was not the affirmation.\n",
            "Please type the following affirmation: I am capable of doing anything I put my mind to.\n",
            "That's right!:\n"
          ]
        }
      ],
      "source": [
        "def main():\n",
        "    affirmation = \"I am capable of doing anything I put my mind to.\"\n",
        "    user_input = input(\"Please type the following affirmation.\")\n",
        "    while user_input != affirmation:\n",
        "        print(\"Hmmm That was not the affirmation.\")\n",
        "        user_input = input(\"Please type the following affirmation: \")\n",
        "    print(\"That's right!:\")\n",
        "if __name__ == \"__main__\":\n",
        "    main()"
      ]
    }
  ]
}