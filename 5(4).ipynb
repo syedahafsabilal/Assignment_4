{
  "nbformat": 4,
  "nbformat_minor": 0,
  "metadata": {
    "colab": {
      "provenance": []
    },
    "kernelspec": {
      "name": "python3",
      "display_name": "Python 3"
    },
    "language_info": {
      "name": "python"
    }
  },
  "cells": [
    {
      "cell_type": "code",
      "execution_count": null,
      "metadata": {
        "id": "hcP2op90src2",
        "colab": {
          "base_uri": "https://localhost:8080/"
        },
        "outputId": "12e45398-276a-4744-b3a0-5bb747ba5c88"
      },
      "outputs": [
        {
          "output_type": "stream",
          "name": "stdout",
          "text": [
            "10 9 8 7 6 5 4 3 2 1 Liftoff!\n"
          ]
        }
      ],
      "source": [
        "def main():\n",
        "    for i in range(10):\n",
        "        print(10-i,end=' ')\n",
        "    print(\"Liftoff!\")\n",
        "if __name__ == '__main__':\n",
        "    main()"
      ]
    }
  ]
}