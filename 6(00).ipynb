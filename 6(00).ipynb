{
  "nbformat": 4,
  "nbformat_minor": 0,
  "metadata": {
    "colab": {
      "provenance": []
    },
    "kernelspec": {
      "name": "python3",
      "display_name": "Python 3"
    },
    "language_info": {
      "name": "python"
    }
  },
  "cells": [
    {
      "cell_type": "code",
      "execution_count": null,
      "metadata": {
        "colab": {
          "base_uri": "https://localhost:8080/"
        },
        "id": "C4qrUaGPT2Qn",
        "outputId": "41d4be49-94fe-4ce1-90ed-dec7fba16121"
      },
      "outputs": [
        {
          "output_type": "stream",
          "name": "stdout",
          "text": [
            "final:  7.0\n",
            "avg_1:  5.0\n",
            "avg_2:  9.0\n"
          ]
        }
      ],
      "source": [
        "def average(a:float, b:float):\n",
        "    sum = a + b\n",
        "    return sum / 2\n",
        "def main():\n",
        "    avg_1 = average(0, 10)\n",
        "    avg_2 = average(8, 10)\n",
        "    final = average(avg_1, avg_2)\n",
        "    print(\"final: \", final)\n",
        "    print(\"avg_1: \",avg_1)\n",
        "    print(\"avg_2: \",avg_2)\n",
        "\n",
        "if __name__ == \"__main__\":\n",
        "    main()"
      ]
    }
  ]
}