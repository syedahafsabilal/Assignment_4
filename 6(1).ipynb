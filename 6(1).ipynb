{
  "nbformat": 4,
  "nbformat_minor": 0,
  "metadata": {
    "colab": {
      "provenance": []
    },
    "kernelspec": {
      "name": "python3",
      "display_name": "Python 3"
    },
    "language_info": {
      "name": "python"
    }
  },
  "cells": [
    {
      "cell_type": "code",
      "execution_count": null,
      "metadata": {
        "colab": {
          "base_uri": "https://localhost:8080/"
        },
        "id": "jzcHBUaxW5V9",
        "outputId": "f03425e3-18a4-4182-a7ee-471f2611816a"
      },
      "outputs": [
        {
          "output_type": "stream",
          "name": "stdout",
          "text": [
            "I'm going to count until 10 or until I feel like stopping, whichever comes first.\n",
            "1  2  3  4  5  6  7  8  9  10  I'm Done!\n"
          ]
        }
      ],
      "source": [
        "\n",
        "DONE_LIKELIHOOD = 0.3\n",
        "def chaotic_counting():\n",
        "    for i in range(10):\n",
        "      curr_num = i + 1\n",
        "      if done():\n",
        "         return\n",
        "      print(curr_num, end=\"  \")\n",
        "def done():\n",
        "    return random.random() < DONE_LIKELIHOOD\n",
        "def main():\n",
        "    print(\"I'm going to count until 10 or until I feel like stopping, whichever comes first.\")\n",
        "    chaotic_counting()\n",
        "    print(\"I'm Done!\")\n",
        "if __name__ == '__main__':\n",
        "    main()"
      ]
    }
  ]
}