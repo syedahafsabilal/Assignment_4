{
  "nbformat": 4,
  "nbformat_minor": 0,
  "metadata": {
    "colab": {
      "provenance": []
    },
    "kernelspec": {
      "name": "python3",
      "display_name": "Python 3"
    },
    "language_info": {
      "name": "python"
    }
  },
  "cells": [
    {
      "cell_type": "code",
      "execution_count": null,
      "metadata": {
        "colab": {
          "base_uri": "https://localhost:8080/"
        },
        "id": "dd1bvOReSx_m",
        "outputId": "5682d632-57fe-489e-cb0a-aff22e8258fe"
      },
      "outputs": [
        {
          "output_type": "stream",
          "name": "stdout",
          "text": [
            "Enter an integer or pass enter to stop: 2\n",
            "Enter an integer or pass enter to stop: 7\n",
            "Enter an integer or pass enter to stop: 8\n",
            "Enter an integer or pass enter to stop: \n",
            "3\n"
          ]
        }
      ],
      "source": [
        "def count_even(lst):\n",
        "    count = 0\n",
        "    for num in lst:\n",
        "         count += 1\n",
        "    print(count)\n",
        "def get_list_of_ints():\n",
        "    lst = []\n",
        "    user_input = input(\"Enter an integer or pass enter to stop: \")\n",
        "    while user_input != \"\":\n",
        "        lst.append(int(user_input))\n",
        "        user_input = input(\"Enter an integer or pass enter to stop: \")\n",
        "    return lst\n",
        "def main():\n",
        "    lst = get_list_of_ints()\n",
        "    count_even(lst)\n",
        "if __name__ == \"__main__\":\n",
        "    main()"
      ]
    }
  ]
}