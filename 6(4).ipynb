{
  "nbformat": 4,
  "nbformat_minor": 0,
  "metadata": {
    "colab": {
      "provenance": []
    },
    "kernelspec": {
      "name": "python3",
      "display_name": "Python 3"
    },
    "language_info": {
      "name": "python"
    }
  },
  "cells": [
    {
      "cell_type": "code",
      "execution_count": null,
      "metadata": {
        "colab": {
          "base_uri": "https://localhost:8080/"
        },
        "id": "Xhzoa_7f00xR",
        "outputId": "6d68d1c0-f503-48a8-8c87-2f8eb12fe34d"
      },
      "outputs": [
        {
          "output_type": "stream",
          "name": "stdout",
          "text": [
            "Enter a number: 2\n",
            "Double that is 4\n"
          ]
        }
      ],
      "source": [
        "def double(num: int):\n",
        "    return num * 2\n",
        "def main():\n",
        "    num = int(input(\"Enter a number: \"))\n",
        "    num_times2 = double(num)\n",
        "    print(\"Double that is\", num_times2)\n",
        "if __name__ == \"__main__\":\n",
        "    main()"
      ]
    }
  ]
}