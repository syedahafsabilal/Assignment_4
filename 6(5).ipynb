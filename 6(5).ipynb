{
  "nbformat": 4,
  "nbformat_minor": 0,
  "metadata": {
    "colab": {
      "provenance": []
    },
    "kernelspec": {
      "name": "python3",
      "display_name": "Python 3"
    },
    "language_info": {
      "name": "python"
    }
  },
  "cells": [
    {
      "cell_type": "code",
      "execution_count": null,
      "metadata": {
        "colab": {
          "base_uri": "https://localhost:8080/"
        },
        "id": "2yzYo-br5Q3O",
        "outputId": "1064d723-abb4-4097-92e3-7cc4929a1536"
      },
      "outputs": [
        {
          "output_type": "stream",
          "name": "stdout",
          "text": [
            "Howdy Sophia !\n"
          ]
        }
      ],
      "source": [
        "def get_name():\n",
        "    return \"Sophia\"\n",
        "def main():\n",
        "    name = get_name()\n",
        "    print(\"Howdy\",name, \"!\")\n",
        "if __name__ == '__main__':\n",
        "    main()"
      ]
    }
  ]
}