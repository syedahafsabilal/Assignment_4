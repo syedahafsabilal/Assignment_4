{
  "nbformat": 4,
  "nbformat_minor": 0,
  "metadata": {
    "colab": {
      "provenance": []
    },
    "kernelspec": {
      "name": "python3",
      "display_name": "Python 3"
    },
    "language_info": {
      "name": "python"
    }
  },
  "cells": [
    {
      "cell_type": "code",
      "execution_count": null,
      "metadata": {
        "colab": {
          "base_uri": "https://localhost:8080/"
        },
        "id": "gDlGyMaO8PWD",
        "outputId": "0d3816ca-b41d-4327-d571-6d8d10f69a61"
      },
      "outputs": [
        {
          "output_type": "stream",
          "name": "stdout",
          "text": [
            "Enter a number:4\n",
            "Here are the divisors of 4\n",
            "1\n",
            "2\n",
            "4\n"
          ]
        }
      ],
      "source": [
        "def print_divisors(num: int):\n",
        "    print(\"Here are the divisors of\", num)\n",
        "    for i in range(num):\n",
        "        curr_divisor = i + 1\n",
        "        if num % curr_divisor == 0:\n",
        "            print(curr_divisor)\n",
        "def main():\n",
        "    num = int(input(\"Enter a number:\"))\n",
        "    print_divisors(num)\n",
        "if __name__ == \"__main__\":\n",
        "    main()"
      ]
    }
  ]
}