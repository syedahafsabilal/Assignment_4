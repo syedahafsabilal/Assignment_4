{
  "nbformat": 4,
  "nbformat_minor": 0,
  "metadata": {
    "colab": {
      "provenance": []
    },
    "kernelspec": {
      "name": "python3",
      "display_name": "Python 3"
    },
    "language_info": {
      "name": "python"
    }
  },
  "cells": [
    {
      "cell_type": "code",
      "execution_count": null,
      "metadata": {
        "colab": {
          "base_uri": "https://localhost:8080/"
        },
        "id": "RIf2beur9h_A",
        "outputId": "844ccffe-fd93-45a6-835e-8c5a233fef44"
      },
      "outputs": [
        {
          "output_type": "stream",
          "name": "stdout",
          "text": [
            "Please type a message:hello\n",
            "Enter a number of times to repeat your message:6\n",
            "hello\n",
            "hello\n",
            "hello\n",
            "hello\n",
            "hello\n",
            "hello\n"
          ]
        }
      ],
      "source": [
        "def print_multiple(message: str,repeats: int):\n",
        "    for i in range(repeats):\n",
        "        print(message)\n",
        "def main():\n",
        "    message = input(\"Please type a message:\")\n",
        "    repeats = int(input(\"Enter a number of times to repeat your message:\"))\n",
        "    print_multiple(message, repeats)\n",
        "if __name__ == \"__main__\":\n",
        "    main()"
      ]
    }
  ]
}