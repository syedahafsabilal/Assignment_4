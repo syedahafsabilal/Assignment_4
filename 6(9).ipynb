{
  "nbformat": 4,
  "nbformat_minor": 0,
  "metadata": {
    "colab": {
      "provenance": []
    },
    "kernelspec": {
      "name": "python3",
      "display_name": "Python 3"
    },
    "language_info": {
      "name": "python"
    }
  },
  "cells": [
    {
      "cell_type": "code",
      "execution_count": null,
      "metadata": {
        "colab": {
          "base_uri": "https://localhost:8080/"
        },
        "id": "w3JVJIT2-_aM",
        "outputId": "804f1c08-a7e6-4d0c-9c1b-2c315cf2e52c"
      },
      "outputs": [
        {
          "output_type": "stream",
          "name": "stdout",
          "text": [
            "Please type a noun,verb or adjective?pretty\n",
            "Please type 0 for noun, 1 for verb, or 2 for adjective?2\n",
            "Looking out my window, the sky is big and pretty!\n"
          ]
        }
      ],
      "source": [
        "def make_sentence(word, part_of_speech):\n",
        "    if part_of_speech == 0:\n",
        "       print(\"I am excited to add this\"+ word +\" to my vast collection of them!\")\n",
        "    elif part_of_speech == 1:\n",
        "       print(\"It's so nice outside today it makes me want to\"+ word +\"!\")\n",
        "    elif part_of_speech == 2:\n",
        "       print(\"Looking out my window, the sky is big and \" + word + \"!\")\n",
        "    else:\n",
        "       print(\"Part of speech must be 0,1 or 2! Can't make a sentence.\")\n",
        "def main():\n",
        "    word = input(\"Please type a noun,verb or adjective?\")\n",
        "    part_of_speech = int(input(\"Please type 0 for noun, 1 for verb, or 2 for adjective?\"))\n",
        "    make_sentence(word, part_of_speech)\n",
        "if __name__ == \"__main__\":\n",
        "    main()\n",
        "\n"
      ]
    }
  ]
}