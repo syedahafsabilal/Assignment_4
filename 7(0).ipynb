{
  "nbformat": 4,
  "nbformat_minor": 0,
  "metadata": {
    "colab": {
      "provenance": []
    },
    "kernelspec": {
      "name": "python3",
      "display_name": "Python 3"
    },
    "language_info": {
      "name": "python"
    }
  },
  "cells": [
    {
      "cell_type": "code",
      "execution_count": null,
      "metadata": {
        "colab": {
          "base_uri": "https://localhost:8080/"
        },
        "id": "e3I3qVodIp_e",
        "outputId": "f41a4ae3-52e2-46dc-939b-925d10405a79"
      },
      "outputs": [
        {
          "output_type": "stream",
          "name": "stdout",
          "text": [
            "How old is this person?18\n",
            "True\n"
          ]
        }
      ],
      "source": [
        "ADULT_AGE: int = 18\n",
        "def is_adult(age:int):\n",
        "    if age >= ADULT_AGE:\n",
        "        return True\n",
        "    else:\n",
        "        return False\n",
        "def main():\n",
        "    age:int =int(input(\"How old is this person?\"))\n",
        "    print(is_adult(age))\n",
        "if __name__ == \"__main__\":\n",
        "    main()"
      ]
    }
  ]
}