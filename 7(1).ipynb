{
  "nbformat": 4,
  "nbformat_minor": 0,
  "metadata": {
    "colab": {
      "provenance": []
    },
    "kernelspec": {
      "name": "python3",
      "display_name": "Python 3"
    },
    "language_info": {
      "name": "python"
    }
  },
  "cells": [
    {
      "cell_type": "code",
      "execution_count": null,
      "metadata": {
        "colab": {
          "base_uri": "https://localhost:8080/"
        },
        "id": "q-ZHxz0rIyRp",
        "outputId": "ec8cdc12-2460-474a-b2f1-3f9afb15fe61"
      },
      "outputs": [
        {
          "output_type": "stream",
          "name": "stdout",
          "text": [
            "What's your name?hafsa\n",
            "Greetings hafsa!\n"
          ]
        }
      ],
      "source": [
        "def main():\n",
        "    name : str=input(\"What's your name?\")\n",
        "    print(greet(name))\n",
        "def greet(name):\n",
        "    return \"Greetings \" + name + \"!\"\n",
        "if __name__ == \"__main__\":\n",
        "    main()"
      ]
    }
  ]
}