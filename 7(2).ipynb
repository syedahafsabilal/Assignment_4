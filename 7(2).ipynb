{
  "nbformat": 4,
  "nbformat_minor": 0,
  "metadata": {
    "colab": {
      "provenance": []
    },
    "kernelspec": {
      "name": "python3",
      "display_name": "Python 3"
    },
    "language_info": {
      "name": "python"
    }
  },
  "cells": [
    {
      "cell_type": "code",
      "execution_count": null,
      "metadata": {
        "colab": {
          "base_uri": "https://localhost:8080/"
        },
        "id": "Ipmg1uf2Ls7A",
        "outputId": "8aa096c0-411c-44a3-c0df-ae9c8ba9182c"
      },
      "outputs": [
        {
          "output_type": "stream",
          "name": "stdout",
          "text": [
            "Enter a number to check:12\n",
            "Enter the lower bound:3\n",
            "Enter the upper bound:15\n",
            "True\n"
          ]
        }
      ],
      "source": [
        "def in_range(n, low, high):\n",
        "    if n >=low and n <= high:\n",
        "       return True\n",
        "    return False\n",
        "def main():\n",
        "    n = int(input(\"Enter a number to check:\"))\n",
        "    low = int(input(\"Enter the lower bound:\"))\n",
        "    high = int(input(\"Enter the upper bound:\"))\n",
        "    print(in_range(n, low, high))\n",
        "\n",
        "if __name__ == \"__main__\":\n",
        "    main()"
      ]
    }
  ]
}