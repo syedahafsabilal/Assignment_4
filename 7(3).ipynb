{
  "nbformat": 4,
  "nbformat_minor": 0,
  "metadata": {
    "colab": {
      "provenance": []
    },
    "kernelspec": {
      "name": "python3",
      "display_name": "Python 3"
    },
    "language_info": {
      "name": "python"
    }
  },
  "cells": [
    {
      "cell_type": "code",
      "execution_count": null,
      "metadata": {
        "colab": {
          "base_uri": "https://localhost:8080/"
        },
        "id": "6rYWY1X9MU1A",
        "outputId": "32697e7a-4cbd-423c-eaff-651f68163d32"
      },
      "outputs": [
        {
          "output_type": "stream",
          "name": "stdout",
          "text": [
            "Enter a fruit:strawberry\n",
            "This fruit is not in stock.\n"
          ]
        }
      ],
      "source": [
        "def main():\n",
        "    fruit: str = input(\"Enter a fruit:\")\n",
        "    stock = num_in_stock(fruit)\n",
        "    if stock == 0:\n",
        "       print(\"This fruit is not in stock.\")\n",
        "    else:\n",
        "       print(\"This fruit is in stock! Here is how many :\")\n",
        "       print(stock)\n",
        "def num_in_stock(fruit):\n",
        "    if fruit =='apple':\n",
        "        return 5\n",
        "    if fruit == 'orange':\n",
        "        return 3\n",
        "    if fruit == 'banana':\n",
        "       return 1000\n",
        "    else:\n",
        "        return 0\n",
        "if __name__ == '__main__':\n",
        "    main()"
      ]
    }
  ]
}