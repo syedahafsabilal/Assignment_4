{
  "nbformat": 4,
  "nbformat_minor": 0,
  "metadata": {
    "colab": {
      "provenance": []
    },
    "kernelspec": {
      "name": "python3",
      "display_name": "Python 3"
    },
    "language_info": {
      "name": "python"
    }
  },
  "cells": [
    {
      "cell_type": "code",
      "execution_count": null,
      "metadata": {
        "colab": {
          "base_uri": "https://localhost:8080/"
        },
        "id": "c-HyBf_4N2J0",
        "outputId": "57243829-e06e-4864-886f-64ecb2c7159b"
      },
      "outputs": [
        {
          "output_type": "stream",
          "name": "stdout",
          "text": [
            " What is your first name?hafsa\n",
            " What is your last name?bilal\n",
            " What is your email address?hafsa1\n",
            "Recieved the following user data: ('hafsa', 'bilal', 'hafsa1')\n"
          ]
        }
      ],
      "source": [
        "def get_user_info():\n",
        "    first_name:str = input(\" What is your first name?\")\n",
        "    last_name:str = input(\" What is your last name?\")\n",
        "    email_address:str = input(\" What is your email address?\")\n",
        "    return first_name, last_name , email_address\n",
        "def main():\n",
        "    user_info = get_user_info()\n",
        "    print(\"Recieved the following user data:\",user_info)\n",
        "if __name__ == \"__main__\":\n",
        "    main()"
      ]
    }
  ]
}