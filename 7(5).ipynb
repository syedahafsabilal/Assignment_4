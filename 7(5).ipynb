{
  "nbformat": 4,
  "nbformat_minor": 0,
  "metadata": {
    "colab": {
      "provenance": []
    },
    "kernelspec": {
      "name": "python3",
      "display_name": "Python 3"
    },
    "language_info": {
      "name": "python"
    }
  },
  "cells": [
    {
      "cell_type": "code",
      "execution_count": null,
      "metadata": {
        "colab": {
          "base_uri": "https://localhost:8080/"
        },
        "id": "EuXv-WpcN406",
        "outputId": "55f5e866-5202-4301-848f-e656645ff65c"
      },
      "outputs": [
        {
          "output_type": "stream",
          "name": "stdout",
          "text": [
            "This should be zero: 0\n"
          ]
        }
      ],
      "source": [
        "def main():\n",
        "    num:int = 7\n",
        "    num = subtract_seven(num)\n",
        "    print(\"This should be zero:\", num)\n",
        "def subtract_seven(num:int) -> int:\n",
        "    num -= 7\n",
        "    return num\n",
        "if __name__ == \"__main__\":\n",
        "    main()"
      ]
    }
  ]
}