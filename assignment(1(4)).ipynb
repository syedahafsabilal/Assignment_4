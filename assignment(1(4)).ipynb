{
  "nbformat": 4,
  "nbformat_minor": 0,
  "metadata": {
    "colab": {
      "provenance": []
    },
    "kernelspec": {
      "name": "python3",
      "display_name": "Python 3"
    },
    "language_info": {
      "name": "python"
    }
  },
  "cells": [
    {
      "cell_type": "code",
      "execution_count": null,
      "metadata": {
        "id": "_KgzMW7eeb1d",
        "colab": {
          "base_uri": "https://localhost:8080/"
        },
        "outputId": "ebdd77dc-33e4-47a1-9978-19777e0f42dd"
      },
      "outputs": [
        {
          "output_type": "stream",
          "name": "stdout",
          "text": [
            "Enter the length of AB:40\n",
            "Enter the length of AC:20\n",
            "The length of BC is 44.72\n"
          ]
        }
      ],
      "source": [
        "import math\n",
        "\n",
        "def main():\n",
        "  ab: float = float(input(\"Enter the length of AB:\"))\n",
        "  ac: float = float(input(\"Enter the length of AC:\"))\n",
        "  bc: float = math.sqrt(ab**2 + ac**2)\n",
        "  print(f\"The length of BC is {bc:.2f}\")\n",
        "\n",
        "if __name__ == \"__main__\":\n",
        "  main()\n"
      ]
    }
  ]
}