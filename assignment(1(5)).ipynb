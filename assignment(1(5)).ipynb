{
  "nbformat": 4,
  "nbformat_minor": 0,
  "metadata": {
    "colab": {
      "provenance": []
    },
    "kernelspec": {
      "name": "python3",
      "display_name": "Python 3"
    },
    "language_info": {
      "name": "python"
    }
  },
  "cells": [
    {
      "cell_type": "code",
      "execution_count": null,
      "metadata": {
        "id": "fGZbB0BQear-",
        "colab": {
          "base_uri": "https://localhost:8080/"
        },
        "outputId": "414ffef4-038f-455e-ac0f-d524d65634aa"
      },
      "outputs": [
        {
          "output_type": "stream",
          "name": "stdout",
          "text": [
            "Enter the dividend: 4\n",
            "Enter the divisor: 2\n",
            "The result of this division is 2 with a remainder of 0\n"
          ]
        }
      ],
      "source": [
        "\n",
        "def main():\n",
        "    dividend : int = int(input(\"Enter the dividend: \"))\n",
        "    divisor : int = int(input(\"Enter the divisor: \"))\n",
        "    quotient : int = dividend // divisor\n",
        "    remainder : int = dividend % divisor\n",
        "    print(\"The result of this division is \" + str(quotient) +\" with a remainder of \" + str(remainder))\n",
        "if __name__ == \"__main__\":\n",
        "    main()"
      ]
    }
  ]
}