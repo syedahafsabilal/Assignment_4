{
  "nbformat": 4,
  "nbformat_minor": 0,
  "metadata": {
    "colab": {
      "provenance": []
    },
    "kernelspec": {
      "name": "python3",
      "display_name": "Python 3"
    },
    "language_info": {
      "name": "python"
    }
  },
  "cells": [
    {
      "cell_type": "code",
      "execution_count": null,
      "metadata": {
        "colab": {
          "base_uri": "https://localhost:8080/"
        },
        "id": "HwfNrG-eOa2S",
        "outputId": "2710ca4a-7b9a-4820-9c23-593413ab7f07"
      },
      "outputs": [
        {
          "output_type": "stream",
          "name": "stdout",
          "text": [
            "What do you want?joke\n",
            "Here is a joke for you! Panaversity GPT -Sophia is heading out to the grocery store. A programmer tells her:get a liter of milk, and if they have eggs, get 12. Sophia returns with 13 liters of milk. The programmer asks why and Sophia replies:'beacuse they had eggs'\n"
          ]
        }
      ],
      "source": [
        "PROMPT: str=\"What do you want?\"\n",
        "JOKE:  str = \"Here is a joke for you! Panaversity GPT -Sophia is heading out to the grocery store. A programmer tells her:get a liter of milk, and if they have eggs, get 12. Sophia returns with 13 liters of milk. The programmer asks why and Sophia replies:'beacuse they had eggs'\"\n",
        "SORRY: str =\"Sorry I only tell jokes.\"\n",
        "def main():\n",
        "    user_input = input(PROMPT).strip().lower()\n",
        "    if \"joke\" in user_input:\n",
        "        print(JOKE)\n",
        "    else:\n",
        "        print(SORRY)\n",
        "if __name__ == \"__main__\":\n",
        "    main()"
      ]
    }
  ]
}