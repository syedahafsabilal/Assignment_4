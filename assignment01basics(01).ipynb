{
  "nbformat": 4,
  "nbformat_minor": 0,
  "metadata": {
    "colab": {
      "provenance": []
    },
    "kernelspec": {
      "name": "python3",
      "display_name": "Python 3"
    },
    "language_info": {
      "name": "python"
    }
  },
  "cells": [
    {
      "cell_type": "code",
      "execution_count": null,
      "metadata": {
        "colab": {
          "base_uri": "https://localhost:8080/"
        },
        "id": "tKN-7potRTvR",
        "outputId": "57ce1124-eb3c-40bb-ad41-9faf8e37bce7"
      },
      "outputs": [
        {
          "output_type": "stream",
          "name": "stdout",
          "text": [
            "Enter a number:2\n",
            "4 8 16 32 64 128 "
          ]
        }
      ],
      "source": [
        "def main():\n",
        "    curr_value = int(input(\"Enter a number:\"))\n",
        "\n",
        "    while curr_value < 100:\n",
        "        curr_value = curr_value * 2\n",
        "        print(curr_value, end=\" \")\n",
        "\n",
        "if __name__ == \"__main__\":\n",
        "   main()"
      ]
    }
  ]
}