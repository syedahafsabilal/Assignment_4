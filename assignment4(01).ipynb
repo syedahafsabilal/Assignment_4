{
  "nbformat": 4,
  "nbformat_minor": 0,
  "metadata": {
    "colab": {
      "provenance": []
    },
    "kernelspec": {
      "name": "python3",
      "display_name": "Python 3"
    },
    "language_info": {
      "name": "python"
    }
  },
  "cells": [
    {
      "cell_type": "code",
      "execution_count": null,
      "metadata": {
        "id": "1V8lAHR5t6Hc"
      },
      "outputs": [],
      "source": [
        "def main():\n",
        "  num1=int(input(\"Enter the first number: \"))\n",
        "  num2=int(input(\"Enter the second number: \"))\n",
        "  total = num1 + num2\n",
        "  print(f\"The value will be:{total}\")\n",
        "main()"
      ]
    }
  ]
}