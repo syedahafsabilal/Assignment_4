{
  "nbformat": 4,
  "nbformat_minor": 0,
  "metadata": {
    "colab": {
      "provenance": []
    },
    "kernelspec": {
      "name": "python3",
      "display_name": "Python 3"
    },
    "language_info": {
      "name": "python"
    }
  },
  "cells": [
    {
      "cell_type": "code",
      "execution_count": null,
      "metadata": {
        "colab": {
          "base_uri": "https://localhost:8080/"
        },
        "id": "x9fiovKAyGsA",
        "outputId": "9b148dff-67a5-42c7-dbcd-d7cc33857fa4"
      },
      "outputs": [
        {
          "output_type": "stream",
          "name": "stdout",
          "text": [
            "What's your favourite Animal?cow\n",
            "My favourite Animal is also cow!\n"
          ]
        }
      ],
      "source": [
        "def main():\n",
        "  animal = input(\"What's your favourite Animal?\")\n",
        "  print(\"My favourite Animal is also \" + animal + \"!\")\n",
        "\n",
        "if __name__ == '__main__':\n",
        "   main()"
      ]
    }
  ]
}