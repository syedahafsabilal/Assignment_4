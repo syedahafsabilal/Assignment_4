{
  "nbformat": 4,
  "nbformat_minor": 0,
  "metadata": {
    "colab": {
      "provenance": []
    },
    "kernelspec": {
      "name": "python3",
      "display_name": "Python 3"
    },
    "language_info": {
      "name": "python"
    }
  },
  "cells": [
    {
      "cell_type": "code",
      "execution_count": null,
      "metadata": {
        "colab": {
          "base_uri": "https://localhost:8080/"
        },
        "id": "-CV7kg2Vzy_G",
        "outputId": "035511bc-13af-4238-f173-10af2f7e5bce"
      },
      "outputs": [
        {
          "output_type": "stream",
          "name": "stdout",
          "text": [
            "Enter temperature in degrees Fahrenheit: 5\n",
            "5.0 degrees Fahrenheit is equal to -15.00 degrees Celsius.\n"
          ]
        }
      ],
      "source": [
        "def main():\n",
        "  degrees_fahrenheit = float(input(\"Enter temperature in degrees Fahrenheit: \"))\n",
        "  degreescelsius = (degrees_fahrenheit - 32) * 5 / 9\n",
        "  print(f\"{degrees_fahrenheit} degrees Fahrenheit is equal to {degreescelsius:.2f} degrees Celsius.\")\n",
        "\n",
        "if __name__ == \"__main__\":\n",
        "  main()"
      ]
    }
  ]
}