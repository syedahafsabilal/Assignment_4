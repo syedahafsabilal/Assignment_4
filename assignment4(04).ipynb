{
  "nbformat": 4,
  "nbformat_minor": 0,
  "metadata": {
    "colab": {
      "provenance": []
    },
    "kernelspec": {
      "name": "python3",
      "display_name": "Python 3"
    },
    "language_info": {
      "name": "python"
    }
  },
  "cells": [
    {
      "cell_type": "code",
      "execution_count": null,
      "metadata": {
        "colab": {
          "base_uri": "https://localhost:8080/"
        },
        "id": "5G2nzZ-900fB",
        "outputId": "29afb3fc-4d92-4dd5-e6bf-339d0eeb1dbf"
      },
      "outputs": [
        {
          "output_type": "stream",
          "name": "stdout",
          "text": [
            "Anton is 21\n",
            "Beth  is 27\n",
            "Chen  is 47\n",
            "Drew  is 68\n",
            "Ethan is 47\n"
          ]
        }
      ],
      "source": [
        "def main():\n",
        "    anton:int = 21\n",
        "    beth: int = 6 + anton\n",
        "    chen: int = 20 + beth\n",
        "    drew: int = chen + anton\n",
        "    ethan:int = chen\n",
        "\n",
        "\n",
        "    print(\"Anton is \" + str(anton))\n",
        "    print(\"Beth  is \" + str(beth))\n",
        "    print(\"Chen  is \" + str(chen))\n",
        "    print(\"Drew  is \" + str(drew))\n",
        "    print(\"Ethan is \" + str(ethan))\n",
        "\n",
        "if __name__ == \"__main__\":\n",
        "    main()"
      ]
    }
  ]
}