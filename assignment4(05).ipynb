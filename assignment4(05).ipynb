{
  "nbformat": 4,
  "nbformat_minor": 0,
  "metadata": {
    "colab": {
      "provenance": []
    },
    "kernelspec": {
      "name": "python3",
      "display_name": "Python 3"
    },
    "language_info": {
      "name": "python"
    }
  },
  "cells": [
    {
      "cell_type": "code",
      "execution_count": null,
      "metadata": {
        "colab": {
          "base_uri": "https://localhost:8080/"
        },
        "id": "kLLcoQce21OR",
        "outputId": "24f55890-1270-4d64-9dfc-6494cdff6441"
      },
      "outputs": [
        {
          "output_type": "stream",
          "name": "stdout",
          "text": [
            "Enter the length of side 1: 3\n",
            "Enter the length of side 2: 4\n",
            "Enter the length of side 3: 5\n",
            "The perimeter of the triangle is  12.0\n"
          ]
        }
      ],
      "source": [
        "def main():\n",
        "    side1 = float(input(\"Enter the length of side 1: \"))\n",
        "    side2 = float(input(\"Enter the length of side 2: \"))\n",
        "    side3 = float(input(\"Enter the length of side 3: \"))\n",
        "\n",
        "    perimeter = side1 + side2 + side3\n",
        "\n",
        "    print(\"The perimeter of the triangle is \",perimeter)\n",
        "if __name__ == \"__main__\":\n",
        "    main()"
      ]
    }
  ]
}