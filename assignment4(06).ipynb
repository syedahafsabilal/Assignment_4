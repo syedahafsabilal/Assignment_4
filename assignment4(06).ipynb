{
  "nbformat": 4,
  "nbformat_minor": 0,
  "metadata": {
    "colab": {
      "provenance": []
    },
    "kernelspec": {
      "name": "python3",
      "display_name": "Python 3"
    },
    "language_info": {
      "name": "python"
    }
  },
  "cells": [
    {
      "cell_type": "code",
      "execution_count": null,
      "metadata": {
        "colab": {
          "base_uri": "https://localhost:8080/"
        },
        "id": "a1DKXu6k6JZN",
        "outputId": "e9f9998f-4972-4c5a-9671-279ef63ae1e4"
      },
      "outputs": [
        {
          "output_type": "stream",
          "name": "stdout",
          "text": [
            "Type a number to see its square:4\n",
            "4.0squared is 16.0\n"
          ]
        }
      ],
      "source": [
        "def main():\n",
        "    num = float(input(\"Type a number to see its square:\"))\n",
        "\n",
        "    print(str(num) + \"squared is \"+ str(num ** 2))\n",
        "if __name__ == \"__main__\":\n",
        "   main()"
      ]
    }
  ]
}