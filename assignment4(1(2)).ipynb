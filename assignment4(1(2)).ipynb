{
  "nbformat": 4,
  "nbformat_minor": 0,
  "metadata": {
    "colab": {
      "provenance": []
    },
    "kernelspec": {
      "name": "python3",
      "display_name": "Python 3"
    },
    "language_info": {
      "name": "python"
    }
  },
  "cells": [
    {
      "cell_type": "code",
      "execution_count": null,
      "metadata": {
        "colab": {
          "base_uri": "https://localhost:8080/"
        },
        "id": "g-xeqJ2ObbBO",
        "outputId": "1a9f49fb-4cbe-4fbc-d1b5-75cd12ab4108"
      },
      "outputs": [
        {
          "output_type": "stream",
          "name": "stdout",
          "text": [
            "Enter kilos of mass: 200\n",
            "e = m * C^2\n",
            "m = 200.0 kg\n",
            "C = 299792458 m/s\n",
            "e = 1.7975103574736351e+19 J\n"
          ]
        }
      ],
      "source": [
        "C: int = 299792458\n",
        "def main():\n",
        "    mass_in_kgs: float = float(input(\"Enter kilos of mass: \"))\n",
        "    energy_in_joules: float = mass_in_kgs * ( C ** 2)\n",
        "\n",
        "    print(\"e = m * C^2\")\n",
        "    print(\"m = \" + str(mass_in_kgs) + \" kg\")\n",
        "    print(\"C = \" + str(C) + \" m/s\")\n",
        "    print(\"e = \" + str(energy_in_joules) + \" J\")\n",
        "\n",
        "if __name__ == \"__main__\":\n",
        "    main()\n"
      ]
    }
  ]
}