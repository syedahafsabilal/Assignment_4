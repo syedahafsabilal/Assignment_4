{
  "nbformat": 4,
  "nbformat_minor": 0,
  "metadata": {
    "colab": {
      "provenance": []
    },
    "kernelspec": {
      "name": "python3",
      "display_name": "Python 3"
    },
    "language_info": {
      "name": "python"
    }
  },
  "cells": [
    {
      "cell_type": "code",
      "execution_count": null,
      "metadata": {
        "id": "2CIar-ROlBA-",
        "colab": {
          "base_uri": "https://localhost:8080/"
        },
        "outputId": "e9460aae-d44c-46d6-bf67-fd3d675c4bc0"
      },
      "outputs": [
        {
          "output_type": "stream",
          "name": "stdout",
          "text": [
            "There are 31536000 seconds in a year!\n"
          ]
        }
      ],
      "source": [
        "days_per_year: int = 365\n",
        "hours_per_day: int = 24\n",
        "min_per_hour: int = 60\n",
        "sec_per_min: int = 60\n",
        "\n",
        "def main():\n",
        "    seconds_in_year: int = days_per_year * hours_per_day * min_per_day * sec_per_day\n",
        "    print(\"There are \"+ str(seconds_in_year) +\" seconds in a year!\")\n",
        "\n",
        "if __name__ == \"__main__\":\n",
        "    main()"
      ]
    }
  ]
}