{
  "nbformat": 4,
  "nbformat_minor": 0,
  "metadata": {
    "colab": {
      "provenance": []
    },
    "kernelspec": {
      "name": "python3",
      "display_name": "Python 3"
    },
    "language_info": {
      "name": "python"
    }
  },
  "cells": [
    {
      "cell_type": "code",
      "execution_count": null,
      "metadata": {
        "colab": {
          "base_uri": "https://localhost:8080/"
        },
        "id": "dxf4QOwak_vd",
        "outputId": "f4e0db5d-fc4f-44c2-dbde-f23281f2c848"
      },
      "outputs": [
        {
          "output_type": "stream",
          "name": "stdout",
          "text": [
            "Enter an adjective: improved\n",
            "Enter a noun: coding\n",
            "Enter a verb: better\n",
            "Python is fun.I learned Python because it has so much scope here in pakistan.My improved coding is better!\n"
          ]
        }
      ],
      "source": [
        "sentence_start= \"Python is fun.I learned Python because it has so much scope here in pakistan.My \"\n",
        "def main():\n",
        "    adjective = input(\"Enter an adjective: \")\n",
        "    noun = input(\"Enter a noun: \")\n",
        "    verb = input(\"Enter a verb: \")\n",
        "    final_sentence = sentence_start + adjective + \" \" + noun + \" is \" + verb + \"!\"\n",
        "    print(final_sentence)\n",
        "\n",
        "if __name__ == \"__main__\":\n",
        "    main()"
      ]
    }
  ]
}