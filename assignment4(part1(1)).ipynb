{
  "nbformat": 4,
  "nbformat_minor": 0,
  "metadata": {
    "colab": {
      "provenance": []
    },
    "kernelspec": {
      "name": "python3",
      "display_name": "Python 3"
    },
    "language_info": {
      "name": "python"
    }
  },
  "cells": [
    {
      "cell_type": "code",
      "execution_count": null,
      "metadata": {
        "colab": {
          "base_uri": "https://localhost:8080/"
        },
        "id": "FgK3BD-Q78MD",
        "outputId": "ba75aea8-f676-44c4-af3d-afaeb10bb40b"
      },
      "outputs": [
        {
          "output_type": "stream",
          "name": "stdout",
          "text": [
            "Total of two dice: 7\n",
            "Total of two dice: 6\n",
            "Total of two dice: 8\n",
            "die1 in main() is:10\n"
          ]
        }
      ],
      "source": [
        "import random\n",
        "NUM_SIDES = 6\n",
        "def roll_dice():\n",
        "\n",
        "    die1 = random.randint(1, NUM_SIDES)\n",
        "    die2 = random.randint(1, NUM_SIDES)\n",
        "\n",
        "    total = die1 + die2\n",
        "    print(\"Total of two dice:\", total)\n",
        "def main():\n",
        "    die1 = 10\n",
        "    roll_dice()\n",
        "    roll_dice()\n",
        "    roll_dice()\n",
        "    print(\"die1 in main() is:\" + str(die1))\n",
        "\n",
        "if __name__ == '__main__':\n",
        "    main()"
      ]
    }
  ]
}