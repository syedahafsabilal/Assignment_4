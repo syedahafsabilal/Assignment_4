{
  "nbformat": 4,
  "nbformat_minor": 0,
  "metadata": {
    "colab": {
      "provenance": []
    },
    "kernelspec": {
      "name": "python3",
      "display_name": "Python 3"
    },
    "language_info": {
      "name": "python"
    }
  },
  "cells": [
    {
      "cell_type": "code",
      "execution_count": null,
      "metadata": {
        "colab": {
          "base_uri": "https://localhost:8080/"
        },
        "id": "FgK3BD-Q78MD",
        "outputId": "f78349e2-34ae-419f-fc12-0fe327399fd0"
      },
      "outputs": [
        {
          "output_type": "stream",
          "name": "stdout",
          "text": [
            "Dice have 6 sides each.\n",
            "Die 1 rolled 3\n",
            "Die 2 rolled 3\n",
            "Total of 2 dice: 6\n"
          ]
        }
      ],
      "source": [
        "import random\n",
        "NUM_SIDES = 6\n",
        "def main():\n",
        "\n",
        "    die1 = random.randint(1, NUM_SIDES)\n",
        "    die2 = random.randint(1, NUM_SIDES)\n",
        "    total = die1 + die2\n",
        "    print(\"Dice have\",NUM_SIDES,\"sides each.\")\n",
        "    print(\"Die 1 rolled\", die1)\n",
        "    print(\"Die 2 rolled\", die2)\n",
        "    print(\"Total of 2 dice:\", total)\n",
        "\n",
        "if __name__ == '__main__':\n",
        "    main()"
      ]
    }
  ]
}