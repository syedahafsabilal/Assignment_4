{
  "nbformat": 4,
  "nbformat_minor": 0,
  "metadata": {
    "colab": {
      "provenance": []
    },
    "kernelspec": {
      "name": "python3",
      "display_name": "Python 3"
    },
    "language_info": {
      "name": "python"
    }
  },
  "cells": [
    {
      "cell_type": "code",
      "execution_count": null,
      "metadata": {
        "colab": {
          "base_uri": "https://localhost:8080/"
        },
        "id": "zfEifmw2WSWY",
        "outputId": "b09ef424-5f7c-4ee4-83a1-65ee81add8b1"
      },
      "outputs": [
        {
          "output_type": "stream",
          "name": "stdout",
          "text": [
            "10 9 8 7 6 5 4 3 2 1 Liftoff!\n"
          ]
        }
      ],
      "source": [
        "def main():\n",
        "    for i in range(10,0,-1):\n",
        "      print(i,end=\" \")\n",
        "    print(\"Liftoff!\")\n",
        "if __name__ == \"__main__\":\n",
        "    main()"
      ]
    }
  ]
}