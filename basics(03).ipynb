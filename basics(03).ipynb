{
  "nbformat": 4,
  "nbformat_minor": 0,
  "metadata": {
    "colab": {
      "provenance": []
    },
    "kernelspec": {
      "name": "python3",
      "display_name": "Python 3"
    },
    "language_info": {
      "name": "python"
    }
  },
  "cells": [
    {
      "cell_type": "code",
      "execution_count": null,
      "metadata": {
        "colab": {
          "base_uri": "https://localhost:8080/"
        },
        "id": "NN2pGEFEXMBH",
        "outputId": "98d53e26-560d-4e5a-c49d-8b85476fecd7"
      },
      "outputs": [
        {
          "output_type": "stream",
          "name": "stdout",
          "text": [
            "I am thinking of a number between 0 and 99.\n",
            "Enter a guess: 7\n",
            "Your guess is too low.\n",
            "\n",
            "Enter a new number: 90\n",
            "Your guess is too high.\n",
            "\n",
            "Enter a new number: 70\n",
            "Your guess is too high.\n",
            "\n",
            "Enter a new number: 60\n",
            "Your guess is too high.\n",
            "\n",
            "Enter a new number: 50\n",
            "Your guess is too high.\n",
            "\n",
            "Enter a new number: 30\n",
            "Your guess is too low.\n",
            "\n",
            "Enter a new number: 40\n",
            "Congrats! The number was: 40\n"
          ]
        }
      ],
      "source": [
        "import random\n",
        "def main():\n",
        "    secret_number: int = random.randint(0, 99)\n",
        "    print(\"I am thinking of a number between 0 and 99.\")\n",
        "    guess: int = int(input(\"Enter a guess: \"))\n",
        "\n",
        "    while guess != secret_number:\n",
        "        if guess < secret_number:\n",
        "            print(\"Your guess is too low.\")\n",
        "        else:\n",
        "            print(\"Your guess is too high.\")\n",
        "        print()\n",
        "        guess = int(input(\"Enter a new number: \"))\n",
        "\n",
        "    print(\"Congrats! The number was: \"+ str(secret_number))\n",
        "\n",
        "if __name__ == \"__main__\":\n",
        "    main()\n"
      ]
    }
  ]
}