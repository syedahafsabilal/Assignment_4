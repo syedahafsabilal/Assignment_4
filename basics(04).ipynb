{
  "nbformat": 4,
  "nbformat_minor": 0,
  "metadata": {
    "colab": {
      "provenance": []
    },
    "kernelspec": {
      "name": "python3",
      "display_name": "Python 3"
    },
    "language_info": {
      "name": "python"
    }
  },
  "cells": [
    {
      "cell_type": "code",
      "execution_count": null,
      "metadata": {
        "colab": {
          "base_uri": "https://localhost:8080/"
        },
        "id": "4Ms1fPyAZ_F8",
        "outputId": "8f673e5c-8231-4b09-cd62-fecddb246c4b"
      },
      "outputs": [
        {
          "output_type": "stream",
          "name": "stdout",
          "text": [
            "76 16 24 8 22 19 16 33 12 5 "
          ]
        }
      ],
      "source": [
        "import random\n",
        "N_NUMBERS: int = 10\n",
        "MIN_NUMBER: int = 1\n",
        "MAX_NUMBER: int = 100\n",
        "\n",
        "def main():\n",
        "    for i in range(N_NUMBERS):\n",
        "      value: int = random.randint(MIN_NUMBER, MAX_NUMBER)\n",
        "      print(value, end = \" \")\n",
        "\n",
        "if __name__ == \"__main__\":\n",
        "    main()"
      ]
    }
  ]
}